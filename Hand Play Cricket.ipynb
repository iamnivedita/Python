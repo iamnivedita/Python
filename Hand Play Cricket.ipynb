{
 "cells": [
  {
   "cell_type": "code",
   "execution_count": 8,
   "id": "98ed1e75-a958-43a9-9863-b91e824cb4ec",
   "metadata": {},
   "outputs": [
    {
     "name": "stdout",
     "output_type": "stream",
     "text": [
      "Welcome to Hand Cricket!\n",
      "\n",
      "Your turn to bat!\n"
     ]
    },
    {
     "name": "stdin",
     "output_type": "stream",
     "text": [
      "Enter your run (1-6):  5\n"
     ]
    },
    {
     "name": "stdout",
     "output_type": "stream",
     "text": [
      "Computer chose: 4\n",
      "Your total runs: 5\n"
     ]
    },
    {
     "name": "stdin",
     "output_type": "stream",
     "text": [
      "Enter your run (1-6):  6\n"
     ]
    },
    {
     "name": "stdout",
     "output_type": "stream",
     "text": [
      "Computer chose: 6\n",
      "You're out!\n",
      "\n",
      "Your total score: 5\n",
      "\n",
      "Computer's turn to bat!\n"
     ]
    },
    {
     "name": "stdin",
     "output_type": "stream",
     "text": [
      "Enter your bowl (1-6):  4\n"
     ]
    },
    {
     "name": "stdout",
     "output_type": "stream",
     "text": [
      "Computer chose: 5\n",
      "Computer's total runs: 5\n",
      "\n",
      "Computer's total score: 5\n",
      "It's a tie!\n"
     ]
    }
   ],
   "source": [
    " import random \n",
    "\n",
    "def player_bats():\n",
    "    total_runs = 0\n",
    "    while True:\n",
    "        try:\n",
    "            player_choice = int(input(\"Enter your run (1-6): \"))\n",
    "            if player_choice < 1 or player_choice > 6:\n",
    "                print(\"Please choose a number between 1 and 6.\")\n",
    "                continue\n",
    "        except ValueError:\n",
    "            print(\"Invalid input. Please enter a number between 1 and 6.\")\n",
    "            continue\n",
    "        \n",
    "        computer_choice = random.randint(1, 6)\n",
    "        print(f\"Computer chose: {computer_choice}\")\n",
    "\n",
    "        if player_choice == computer_choice:\n",
    "            print(\"You're out!\")\n",
    "            break\n",
    "        else:\n",
    "            total_runs += player_choice\n",
    "            print(f\"Your total runs: {total_runs}\")\n",
    "\n",
    "    return total_runs\n",
    "\n",
    "def computer_bats(target):\n",
    "    total_runs = 0\n",
    "    while total_runs < target:\n",
    "        computer_choice = random.randint(1, 6)\n",
    "        try:\n",
    "            player_choice = int(input(\"Enter your bowl (1-6): \"))\n",
    "            if player_choice < 1 or player_choice > 6:\n",
    "                print(\"Please choose a number between 1 and 6.\")\n",
    "                continue\n",
    "        except ValueError:\n",
    "            print(\"Invalid input. Please enter a number between 1 and 6.\")\n",
    "            continue\n",
    "\n",
    "        print(f\"Computer chose: {computer_choice}\")\n",
    "\n",
    "        if player_choice == computer_choice:\n",
    "            print(\"Computer is out!\")\n",
    "            break\n",
    "        else:\n",
    "            total_runs += computer_choice\n",
    "            print(f\"Computer's total runs: {total_runs}\")\n",
    "\n",
    "    return total_runs\n",
    "\n",
    "def play_hand_cricket():\n",
    "    print(\"Welcome to Hand Cricket!\")\n",
    "    \n",
    "    print(\"\\nYour turn to bat!\")\n",
    "    player_score = player_bats()\n",
    "    print(f\"\\nYour total score: {player_score}\")\n",
    "\n",
    "    print(\"\\nComputer's turn to bat!\")\n",
    "    computer_score = computer_bats(player_score)\n",
    "    print(f\"\\nComputer's total score: {computer_score}\")\n",
    "\n",
    "    if player_score > computer_score:\n",
    "        print(\"Congratulations! You win!\")\n",
    "    elif computer_score > player_score:\n",
    "        print(\"Computer wins! Better luck next time.\")\n",
    "    else:\n",
    "        print(\"It's a tie!\")\n",
    "\n",
    "if __name__ == \"__main__\":\n",
    "    play_hand_cricket()\n",
    "\n"
   ]
  }
 ],
 "metadata": {
  "kernelspec": {
   "display_name": "Python 3 (ipykernel)",
   "language": "python",
   "name": "python3"
  },
  "language_info": {
   "codemirror_mode": {
    "name": "ipython",
    "version": 3
   },
   "file_extension": ".py",
   "mimetype": "text/x-python",
   "name": "python",
   "nbconvert_exporter": "python",
   "pygments_lexer": "ipython3",
   "version": "3.11.7"
  }
 },
 "nbformat": 4,
 "nbformat_minor": 5
}
