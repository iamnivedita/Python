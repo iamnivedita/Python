{
 "cells": [
  {
   "cell_type": "markdown",
   "id": "dbe5149a",
   "metadata": {},
   "source": [
    "# <span style = \"color: gray\"> Airline Passenger Satisfaction Prediction </span>"
   ]
  },
  {
   "cell_type": "markdown",
   "id": "a98daef7",
   "metadata": {},
   "source": [
    "***"
   ]
  },
  {
   "cell_type": "markdown",
   "id": "00748133",
   "metadata": {},
   "source": [
    "This dataset contains an airline passenger satisfaction survey. What factors are highly correlated to a satisfied (or dissatisfied) passenger? Can you predict passenger satisfaction?"
   ]
  },
  {
   "cell_type": "markdown",
   "id": "bb9fcdad",
   "metadata": {},
   "source": [
    "## <span style = \"color : blue\"> Content </span>"
   ]
  },
  {
   "cell_type": "markdown",
   "id": "b4b66d98",
   "metadata": {},
   "source": [
    "* Gender: Gender of the passengers (Female, Male)\n",
    "\n",
    "* Customer Type: The customer type (Loyal customer, disloyal customer)\n",
    "\n",
    "* Age: The actual age of the passengers\n",
    "\n",
    "* Type of Travel: Purpose of the flight of the passengers (Personal Travel, Business Travel)\n",
    "\n",
    "* Class: Travel class in the plane of the passengers (Business, Eco, Eco Plus)\n",
    "\n",
    "* Flight distance: The flight distance of this journey\n",
    "\n",
    "* Inflight wifi service: Satisfaction level of the inflight wifi service (0:Not Applicable;1-5)\n",
    "\n",
    "* Departure/Arrival time convenient: Satisfaction level of Departure/Arrival time convenient\n",
    "\n",
    "* Ease of Online booking: Satisfaction level of online booking\n",
    "\n",
    "* Gate location: Satisfaction level of Gate location\n",
    "\n",
    "* Food and drink: Satisfaction level of Food and drink\n",
    "\n",
    "* Online boarding: Satisfaction level of online boarding\n",
    "\n",
    "* Seat comfort: Satisfaction level of Seat comfort\n",
    "\n",
    "* Inflight entertainment: Satisfaction level of inflight entertainment\n",
    "\n",
    "* On-board service: Satisfaction level of On-board service\n",
    "\n",
    "* Leg room service: Satisfaction level of Leg room service\n",
    "\n",
    "* Baggage handling: Satisfaction level of baggage handling\n",
    "\n",
    "* Check-in service: Satisfaction level of Check-in service\n",
    "\n",
    "* Inflight service: Satisfaction level of inflight service\n",
    "\n",
    "* Cleanliness: Satisfaction level of Cleanliness\n",
    "\n",
    "* Departure Delay in Minutes: Minutes delayed when departure\n",
    "\n",
    "* Arrival Delay in Minutes: Minutes delayed when Arrival\n",
    "\n",
    "* Satisfaction: Airline satisfaction level(Satisfaction, neutral or dissatisfaction)"
   ]
  },
  {
   "cell_type": "markdown",
   "id": "e5e028c5",
   "metadata": {},
   "source": [
    "## Let's dive into it"
   ]
  },
  {
   "cell_type": "markdown",
   "id": "769c8cc2",
   "metadata": {},
   "source": [
    "### Import necessary libraries"
   ]
  },
  {
   "cell_type": "code",
   "execution_count": null,
   "id": "2b998b66",
   "metadata": {},
   "outputs": [],
   "source": [
    "import numpy as np\n",
    "import pandas as pd\n",
    "import matplotlib.pyplot as plt\n",
    "import seaborn as sns"
   ]
  },
  {
   "cell_type": "markdown",
   "id": "295bc29b",
   "metadata": {},
   "source": [
    "### Read 'airline_passenger_satisfaction.csv' dataset and store it in a DataFrame"
   ]
  },
  {
   "cell_type": "code",
   "execution_count": null,
   "id": "79b2651e",
   "metadata": {},
   "outputs": [],
   "source": [
    "df = pd.read_csv('airline_passenger_satisfaction.csv')"
   ]
  },
  {
   "cell_type": "markdown",
   "id": "18f3bbc6",
   "metadata": {},
   "source": [
    "### View the top 5 rows"
   ]
  },
  {
   "cell_type": "code",
   "execution_count": null,
   "id": "89e6a9f1",
   "metadata": {},
   "outputs": [],
   "source": [
    "pd.set_option('display.max_columns', None)"
   ]
  },
  {
   "cell_type": "code",
   "execution_count": null,
   "id": "78e7b877",
   "metadata": {},
   "outputs": [],
   "source": [
    "df.head()"
   ]
  },
  {
   "cell_type": "markdown",
   "id": "586b67dd",
   "metadata": {},
   "source": [
    "### Find info of the dataset"
   ]
  },
  {
   "cell_type": "code",
   "execution_count": null,
   "id": "9703d52d",
   "metadata": {},
   "outputs": [],
   "source": [
    "df.info"
   ]
  },
  {
   "cell_type": "markdown",
   "id": "1f7935f4",
   "metadata": {},
   "source": [
    "### Find basic statistical information about the dataset"
   ]
  },
  {
   "cell_type": "code",
   "execution_count": null,
   "id": "13a3308f",
   "metadata": {},
   "outputs": [],
   "source": [
    "df.describe()"
   ]
  },
  {
   "cell_type": "markdown",
   "id": "d72cf859",
   "metadata": {},
   "source": [
    "### Check for any null values"
   ]
  },
  {
   "cell_type": "code",
   "execution_count": null,
   "id": "58f79666",
   "metadata": {},
   "outputs": [],
   "source": [
    "df.isna().sum()"
   ]
  },
  {
   "cell_type": "markdown",
   "id": "5dbdb419",
   "metadata": {},
   "source": [
    "### Fill missing value with mean"
   ]
  },
  {
   "cell_type": "code",
   "execution_count": null,
   "id": "720638cc",
   "metadata": {},
   "outputs": [],
   "source": [
    "df['Arrival Delay in Minutes'].fillna(df['Arrival Delay in Minutes'].mean(),inplace=True)"
   ]
  },
  {
   "cell_type": "code",
   "execution_count": null,
   "id": "5ced611e",
   "metadata": {},
   "outputs": [],
   "source": []
  },
  {
   "cell_type": "markdown",
   "id": "f629e4ff",
   "metadata": {},
   "source": [
    "### View unique values in all categorical columns"
   ]
  },
  {
   "cell_type": "code",
   "execution_count": null,
   "id": "8e24936c",
   "metadata": {},
   "outputs": [],
   "source": [
    "categorical_columns = ['Gender', 'Customer Type', 'Type of Travel','Class', 'satisfaction']\n",
    "\n",
    "\n",
    "for feature in categorical_columns:\n",
    "    print(f'Unique values in {feature}',df[feature].unique().tolist())\n",
    "\n",
    "\n"
   ]
  },
  {
   "cell_type": "markdown",
   "id": "573dcbd9",
   "metadata": {},
   "source": [
    "### Change values in satisfaction to:\n",
    "* Neutral to 1\n",
    "* Dissatisfied to 0\n",
    "* Satisfied to 1\n"
   ]
  },
  {
   "cell_type": "code",
   "execution_count": null,
   "id": "d6592435",
   "metadata": {},
   "outputs": [],
   "source": [
    "def satisfied(x):\n",
    "    if x == 'neutral or dissatisfied':\n",
    "        return 0\n",
    "    else:\n",
    "        return 1"
   ]
  },
  {
   "cell_type": "code",
   "execution_count": null,
   "id": "85bd551f",
   "metadata": {},
   "outputs": [],
   "source": [
    "df['satisfaction']= df['satisfaction'].apply(satisfied)"
   ]
  },
  {
   "cell_type": "code",
   "execution_count": null,
   "id": "070d1e10",
   "metadata": {},
   "outputs": [],
   "source": [
    "df.head()"
   ]
  },
  {
   "cell_type": "code",
   "execution_count": null,
   "id": "650cdda2",
   "metadata": {},
   "outputs": [],
   "source": [
    "df['satisfaction'].unique()"
   ]
  },
  {
   "cell_type": "markdown",
   "id": "26a1935d",
   "metadata": {},
   "source": [
    "### Drop Unnamed: 0 and id column"
   ]
  },
  {
   "cell_type": "code",
   "execution_count": null,
   "id": "b1ebab6a",
   "metadata": {},
   "outputs": [],
   "source": [
    "df.drop(columns=['Unnamed: 0','id'],inplace=True)"
   ]
  },
  {
   "cell_type": "code",
   "execution_count": null,
   "id": "75c28df9",
   "metadata": {},
   "outputs": [],
   "source": [
    "df.head()"
   ]
  },
  {
   "cell_type": "markdown",
   "id": "7613814a",
   "metadata": {},
   "source": [
    "### Change the rest of the categorical data into nominal using OneHotEncoding"
   ]
  },
  {
   "cell_type": "code",
   "execution_count": null,
   "id": "764794c8",
   "metadata": {},
   "outputs": [],
   "source": [
    "df = pd.get_dummies(df,dtype=int)"
   ]
  },
  {
   "cell_type": "code",
   "execution_count": null,
   "id": "a5132d10",
   "metadata": {},
   "outputs": [],
   "source": [
    "df"
   ]
  },
  {
   "cell_type": "markdown",
   "id": "3234e92a",
   "metadata": {},
   "source": [
    "# <span style = \"color : red\"> Visualization </span>"
   ]
  },
  {
   "cell_type": "markdown",
   "id": "bb6820b1",
   "metadata": {},
   "source": [
    "### Plot a pairplot of the dataset"
   ]
  },
  {
   "cell_type": "code",
   "execution_count": null,
   "id": "7d012c27",
   "metadata": {},
   "outputs": [],
   "source": [
    "sns.pairplot(df)"
   ]
  },
  {
   "cell_type": "markdown",
   "id": "d0d024d4",
   "metadata": {},
   "source": [
    "### Plot a countplot of Type of travel"
   ]
  },
  {
   "cell_type": "code",
   "execution_count": null,
   "id": "6530311d",
   "metadata": {},
   "outputs": [],
   "source": []
  },
  {
   "cell_type": "markdown",
   "id": "c5ed7a88",
   "metadata": {},
   "source": [
    "### Plot a countplot of Customer Type"
   ]
  },
  {
   "cell_type": "code",
   "execution_count": null,
   "id": "84167e45",
   "metadata": {},
   "outputs": [],
   "source": [
    "sns.countplot(data=df,x='Type of Travel_Business travel',hue='Type of Travel_Business travel')\n",
    "plt.xticks(labels=['Personal Travel','Business Travel'],ticks=[0,1])\n",
    "plt.legend(['personal','business'])\n",
    "plt.show()"
   ]
  },
  {
   "cell_type": "markdown",
   "id": "488f7dd1",
   "metadata": {},
   "source": [
    "### Split the columns into input and target variables"
   ]
  },
  {
   "cell_type": "code",
   "execution_count": null,
   "id": "dc2b9efe",
   "metadata": {},
   "outputs": [],
   "source": [
    "X, y = df.drop('satisfaction',axis=1),df['satisfaction']"
   ]
  },
  {
   "cell_type": "markdown",
   "id": "24b08dc9",
   "metadata": {},
   "source": [
    "### Standardise the data using StandardScaler"
   ]
  },
  {
   "cell_type": "code",
   "execution_count": 27,
   "id": "916cdfd2",
   "metadata": {},
   "outputs": [],
   "source": [
    "from sklearn.preprocessing import StandardScaler"
   ]
  },
  {
   "cell_type": "code",
   "execution_count": 28,
   "id": "49c93719",
   "metadata": {},
   "outputs": [
    {
     "ename": "NameError",
     "evalue": "name 'X' is not defined",
     "output_type": "error",
     "traceback": [
      "\u001b[1;31m---------------------------------------------------------------------------\u001b[0m",
      "\u001b[1;31mNameError\u001b[0m                                 Traceback (most recent call last)",
      "Cell \u001b[1;32mIn[28], line 2\u001b[0m\n\u001b[0;32m      1\u001b[0m st \u001b[38;5;241m=\u001b[39m StandardScaler()\n\u001b[1;32m----> 2\u001b[0m X \u001b[38;5;241m=\u001b[39m pd\u001b[38;5;241m.\u001b[39mDataFrame(st\u001b[38;5;241m.\u001b[39mfit_transform(X),columns\u001b[38;5;241m=\u001b[39mst\u001b[38;5;241m.\u001b[39mget_feature_names_out())\n",
      "\u001b[1;31mNameError\u001b[0m: name 'X' is not defined"
     ]
    }
   ],
   "source": [
    "st = StandardScaler()\n",
    "X = pd.DataFrame(st.fit_transform(X),columns=st.get_feature_names_out())"
   ]
  },
  {
   "cell_type": "code",
   "execution_count": null,
   "id": "8589210f",
   "metadata": {},
   "outputs": [],
   "source": [
    "X.head()"
   ]
  },
  {
   "cell_type": "markdown",
   "id": "89034d7c",
   "metadata": {},
   "source": [
    "### Split the dataset into training and testing set"
   ]
  },
  {
   "cell_type": "code",
   "execution_count": null,
   "id": "f2926a68",
   "metadata": {},
   "outputs": [],
   "source": [
    "from sklearn.model_selection import train_test_split"
   ]
  },
  {
   "cell_type": "code",
   "execution_count": null,
   "id": "7b1094bd",
   "metadata": {},
   "outputs": [],
   "source": [
    "X_train,X_test,y_train,y_test = train_test_split(X,y,test_size=0.2,random_state=42)"
   ]
  },
  {
   "cell_type": "markdown",
   "id": "8ef92ad8",
   "metadata": {},
   "source": [
    "### Check the shape of X_train and X_test"
   ]
  },
  {
   "cell_type": "code",
   "execution_count": 26,
   "id": "b5e9773a-63af-423d-95ee-48105fb8f5fa",
   "metadata": {},
   "outputs": [
    {
     "ename": "NameError",
     "evalue": "name 'X_train' is not defined",
     "output_type": "error",
     "traceback": [
      "\u001b[1;31m---------------------------------------------------------------------------\u001b[0m",
      "\u001b[1;31mNameError\u001b[0m                                 Traceback (most recent call last)",
      "Cell \u001b[1;32mIn[26], line 1\u001b[0m\n\u001b[1;32m----> 1\u001b[0m X_train\u001b[38;5;241m.\u001b[39mshape\n",
      "\u001b[1;31mNameError\u001b[0m: name 'X_train' is not defined"
     ]
    }
   ],
   "source": [
    "X_train.shape"
   ]
  },
  {
   "cell_type": "code",
   "execution_count": null,
   "id": "ddfe2834-0bb1-46fd-9c6d-f3a81c0df0b2",
   "metadata": {},
   "outputs": [],
   "source": [
    "X_test.shape"
   ]
  },
  {
   "cell_type": "markdown",
   "id": "4ef562d2",
   "metadata": {},
   "source": [
    "### Create Random Forest model"
   ]
  },
  {
   "cell_type": "code",
   "execution_count": null,
   "id": "8e2e5250",
   "metadata": {},
   "outputs": [],
   "source": [
    "from sklearn.ensemble import RandomForestClassifier"
   ]
  },
  {
   "cell_type": "code",
   "execution_count": null,
   "id": "f3c343da",
   "metadata": {},
   "outputs": [],
   "source": [
    "rd = RandomForestClassifier()"
   ]
  },
  {
   "cell_type": "markdown",
   "id": "749ab802",
   "metadata": {},
   "source": [
    "### Train the model with X_train and y_train"
   ]
  },
  {
   "cell_type": "code",
   "execution_count": null,
   "id": "ffd93d37",
   "metadata": {},
   "outputs": [],
   "source": [
    "rd.fit(X_train,y_train)"
   ]
  },
  {
   "cell_type": "markdown",
   "id": "559f494d",
   "metadata": {},
   "source": [
    "### Check the score of our trained model"
   ]
  },
  {
   "cell_type": "code",
   "execution_count": null,
   "id": "3daa4338",
   "metadata": {},
   "outputs": [],
   "source": [
    "rd.score(X_train,y_train)"
   ]
  },
  {
   "cell_type": "markdown",
   "id": "f193e92c",
   "metadata": {},
   "source": [
    "### Make predictions with X_test"
   ]
  },
  {
   "cell_type": "code",
   "execution_count": null,
   "id": "3dd9e4f7",
   "metadata": {},
   "outputs": [],
   "source": [
    "y_pred = rd.predict(X_test)"
   ]
  },
  {
   "cell_type": "markdown",
   "id": "54d07e0f",
   "metadata": {},
   "source": [
    "### Check the acccuracy score of our prediction"
   ]
  },
  {
   "cell_type": "code",
   "execution_count": null,
   "id": "6780a568",
   "metadata": {},
   "outputs": [],
   "source": [
    "from sklearn import metrics"
   ]
  },
  {
   "cell_type": "code",
   "execution_count": null,
   "id": "15437000",
   "metadata": {},
   "outputs": [],
   "source": [
    "metrics.accuracy_score(y_test,y_pred)"
   ]
  },
  {
   "cell_type": "markdown",
   "id": "3587ed5b",
   "metadata": {},
   "source": [
    "### Create a confusion matrix"
   ]
  },
  {
   "cell_type": "code",
   "execution_count": null,
   "id": "f0734a77",
   "metadata": {},
   "outputs": [],
   "source": [
    "metrics.confusion_matrix(y_test,y_pred)"
   ]
  },
  {
   "cell_type": "markdown",
   "id": "3d9d8d1e",
   "metadata": {},
   "source": [
    "### Plot confusion matrix on heatmap"
   ]
  },
  {
   "cell_type": "code",
   "execution_count": null,
   "id": "39fcc2df",
   "metadata": {},
   "outputs": [],
   "source": [
    "sns.heatmap(metrics.confusion_matrix(y_test,y_pred),annot=True)"
   ]
  },
  {
   "cell_type": "markdown",
   "id": "a269964f",
   "metadata": {},
   "source": [
    "### Create classification report"
   ]
  },
  {
   "cell_type": "code",
   "execution_count": null,
   "id": "9e29139f",
   "metadata": {},
   "outputs": [],
   "source": [
    "print(metrics.classification_report(y_test,y_pred))"
   ]
  },
  {
   "cell_type": "markdown",
   "id": "e50c8e6f",
   "metadata": {},
   "source": [
    "***"
   ]
  },
  {
   "cell_type": "markdown",
   "id": "d512b731",
   "metadata": {},
   "source": [
    "# <span style = \"color : green;font-size:40px\"> Great Job! </span>"
   ]
  }
 ],
 "metadata": {
  "kernelspec": {
   "display_name": "Python 3 (ipykernel)",
   "language": "python",
   "name": "python3"
  },
  "language_info": {
   "codemirror_mode": {
    "name": "ipython",
    "version": 3
   },
   "file_extension": ".py",
   "mimetype": "text/x-python",
   "name": "python",
   "nbconvert_exporter": "python",
   "pygments_lexer": "ipython3",
   "version": "3.11.7"
  }
 },
 "nbformat": 4,
 "nbformat_minor": 5
}
